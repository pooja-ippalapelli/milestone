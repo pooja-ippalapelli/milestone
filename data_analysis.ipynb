{
 "cells": [
  {
   "cell_type": "code",
   "execution_count": 1,
   "id": "8cee0615",
   "metadata": {},
   "outputs": [],
   "source": [
    "import pandas as pd"
   ]
  },
  {
   "cell_type": "code",
   "execution_count": 2,
   "id": "fc69114e",
   "metadata": {},
   "outputs": [],
   "source": [
    "# Load Airbnb dataset\n",
    "airbnb_data = pd.read_csv('assets/Airbnb_Open_Data.csv', low_memory=False)\n",
    "\n",
    "# Load Zillow Home Value Index (ZHVI) dataset\n",
    "zhvi_data = pd.read_csv('assets/ZHVI_dataset.csv')"
   ]
  },
  {
   "cell_type": "code",
   "execution_count": 3,
   "id": "8dd368ee",
   "metadata": {},
   "outputs": [
    {
     "name": "stdout",
     "output_type": "stream",
     "text": [
      "Airbnb Dataset Preview:\n",
      "        id                                              NAME      host id  \\\n",
      "0  1001254                Clean & quiet apt home by the park  80014485718   \n",
      "1  1002102                             Skylit Midtown Castle  52335172823   \n",
      "2  1002403               THE VILLAGE OF HARLEM....NEW YORK !  78829239556   \n",
      "3  1002755                                               NaN  85098326012   \n",
      "4  1003689  Entire Apt: Spacious Studio/Loft by central park  92037596077   \n",
      "\n",
      "  host_identity_verified host name neighbourhood group neighbourhood  \\\n",
      "0            unconfirmed  Madaline            Brooklyn    Kensington   \n",
      "1               verified     Jenna           Manhattan       Midtown   \n",
      "2                    NaN     Elise           Manhattan        Harlem   \n",
      "3            unconfirmed     Garry            Brooklyn  Clinton Hill   \n",
      "4               verified    Lyndon           Manhattan   East Harlem   \n",
      "\n",
      "        lat      long        country  ... service fee minimum nights  \\\n",
      "0  40.64749 -73.97237  United States  ...       $193            10.0   \n",
      "1  40.75362 -73.98377  United States  ...        $28            30.0   \n",
      "2  40.80902 -73.94190  United States  ...       $124             3.0   \n",
      "3  40.68514 -73.95976  United States  ...        $74            30.0   \n",
      "4  40.79851 -73.94399  United States  ...        $41            10.0   \n",
      "\n",
      "  number of reviews last review  reviews per month review rate number  \\\n",
      "0               9.0  10/19/2021               0.21                4.0   \n",
      "1              45.0   5/21/2022               0.38                4.0   \n",
      "2               0.0         NaN                NaN                5.0   \n",
      "3             270.0    7/5/2019               4.64                4.0   \n",
      "4               9.0  11/19/2018               0.10                3.0   \n",
      "\n",
      "  calculated host listings count  availability 365  \\\n",
      "0                            6.0             286.0   \n",
      "1                            2.0             228.0   \n",
      "2                            1.0             352.0   \n",
      "3                            1.0             322.0   \n",
      "4                            1.0             289.0   \n",
      "\n",
      "                                         house_rules license  \n",
      "0  Clean up and treat the home the way you'd like...     NaN  \n",
      "1  Pet friendly but please confirm with me if the...     NaN  \n",
      "2  I encourage you to use my kitchen, cooking and...     NaN  \n",
      "3                                                NaN     NaN  \n",
      "4  Please no smoking in the house, porch or on th...     NaN  \n",
      "\n",
      "[5 rows x 26 columns]\n",
      "\n",
      "ZHVI Dataset Preview:\n",
      "   RegionID  SizeRank         RegionName    RegionType StateName State  \\\n",
      "0    112345         0           Maryvale  neighborhood        AZ    AZ   \n",
      "1    192689         1           Paradise  neighborhood        NV    NV   \n",
      "2    270958         2    Upper West Side  neighborhood        NY    NY   \n",
      "3    270957         3    Upper East Side  neighborhood        NY    NY   \n",
      "4    118208         4  South Los Angeles  neighborhood        CA    CA   \n",
      "\n",
      "          City                                  Metro          CountyName  \\\n",
      "0      Phoenix              Phoenix-Mesa-Chandler, AZ     Maricopa County   \n",
      "1    Las Vegas       Las Vegas-Henderson-Paradise, NV        Clark County   \n",
      "2     New York  New York-Newark-Jersey City, NY-NJ-PA     New York County   \n",
      "3     New York  New York-Newark-Jersey City, NY-NJ-PA     New York County   \n",
      "4  Los Angeles     Los Angeles-Long Beach-Anaheim, CA  Los Angeles County   \n",
      "\n",
      "      1/31/2000  ...     3/31/2023     4/30/2023     5/31/2023     6/30/2023  \\\n",
      "0   66424.13603  ...  3.121027e+05  3.118438e+05  3.131210e+05  3.149494e+05   \n",
      "1  132849.27360  ...  3.609180e+05  3.591323e+05  3.586049e+05  3.593235e+05   \n",
      "2  400382.57820  ...  1.333659e+06  1.319181e+06  1.312394e+06  1.306469e+06   \n",
      "3  644795.46200  ...  1.299309e+06  1.280345e+06  1.271159e+06  1.265537e+06   \n",
      "4  123966.89590  ...  6.050142e+05  6.009173e+05  6.018500e+05  6.054377e+05   \n",
      "\n",
      "      7/31/2023     8/31/2023     9/30/2023    10/31/2023    11/30/2023  \\\n",
      "0  3.173945e+05  3.203608e+05  3.229862e+05  3.253805e+05  3.274101e+05   \n",
      "1  3.611225e+05  3.640028e+05  3.668549e+05  3.693293e+05  3.714749e+05   \n",
      "2  1.300068e+06  1.290134e+06  1.279944e+06  1.268694e+06  1.256646e+06   \n",
      "3  1.261153e+06  1.256656e+06  1.252097e+06  1.243821e+06  1.232594e+06   \n",
      "4  6.124240e+05  6.217880e+05  6.312672e+05  6.393152e+05  6.455644e+05   \n",
      "\n",
      "     12/31/2023  \n",
      "0  3.289643e+05  \n",
      "1  3.735548e+05  \n",
      "2  1.249004e+06  \n",
      "3  1.222273e+06  \n",
      "4  6.496390e+05  \n",
      "\n",
      "[5 rows x 297 columns]\n"
     ]
    }
   ],
   "source": [
    "# Preliminary data exploration\n",
    "print(\"Airbnb Dataset Preview:\")\n",
    "print(airbnb_data.head())\n",
    "print(\"\\nZHVI Dataset Preview:\")\n",
    "print(zhvi_data.head())"
   ]
  },
  {
   "cell_type": "code",
   "execution_count": 4,
   "id": "ae4fb086",
   "metadata": {},
   "outputs": [],
   "source": [
    "# Handling missing values\n",
    "airbnb_data.dropna(subset=['neighbourhood'], inplace=True)\n",
    "\n",
    "# Removing currency symbols and converting 'price' to a numeric type\n",
    "airbnb_data['price'] = airbnb_data['price'].replace('[\\$,]', '', regex=True).astype(float)\n",
    "\n",
    "# Correcting the column name for price and removing any non-positive prices in Airbnb dataset\n",
    "airbnb_data = airbnb_data[airbnb_data['price'] > 0]"
   ]
  },
  {
   "cell_type": "code",
   "execution_count": 5,
   "id": "bbf411d8",
   "metadata": {},
   "outputs": [],
   "source": [
    "# Handling missing values\n",
    "airbnb_data.dropna(subset=['neighbourhood'], inplace=True)\n",
    "\n",
    "# Removing currency symbols and converting 'price' to a numeric type\n",
    "airbnb_data['price'] = airbnb_data['price'].replace('[\\$,]', '', regex=True).astype(float)\n",
    "\n",
    "# Correcting the column name for price and removing any non-positive prices in Airbnb dataset\n",
    "airbnb_data = airbnb_data[airbnb_data['price'] > 0]\n",
    "\n",
    "# Handling missing values\n",
    "zhvi_data.dropna(subset=['RegionName'], inplace=True)\n",
    "\n",
    "# Filtering Zillow dataset for New York City\n",
    "ny_zhvi_data = zhvi_data[zhvi_data['City'] == 'New York']"
   ]
  },
  {
   "cell_type": "code",
   "execution_count": 6,
   "id": "dd3a9fab",
   "metadata": {},
   "outputs": [],
   "source": [
    "merged_data = pd.merge(airbnb_data, ny_zhvi_data, left_on='neighbourhood', right_on='RegionName', how='inner')\n",
    "merged_data.to_csv('cleaned_data.csv', index=False)"
   ]
  }
 ],
 "metadata": {
  "kernelspec": {
   "display_name": "Python 3 (ipykernel)",
   "language": "python",
   "name": "python3"
  },
  "language_info": {
   "codemirror_mode": {
    "name": "ipython",
    "version": 3
   },
   "file_extension": ".py",
   "mimetype": "text/x-python",
   "name": "python",
   "nbconvert_exporter": "python",
   "pygments_lexer": "ipython3",
   "version": "3.10.6"
  }
 },
 "nbformat": 4,
 "nbformat_minor": 5
}
